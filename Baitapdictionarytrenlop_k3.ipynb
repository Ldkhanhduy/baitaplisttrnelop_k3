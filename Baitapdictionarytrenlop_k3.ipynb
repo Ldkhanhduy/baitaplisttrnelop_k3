{
  "nbformat": 4,
  "nbformat_minor": 0,
  "metadata": {
    "colab": {
      "provenance": [],
      "authorship_tag": "ABX9TyOMuoe/cZTDkY2NGuhSf0Km",
      "include_colab_link": true
    },
    "kernelspec": {
      "name": "python3",
      "display_name": "Python 3"
    },
    "language_info": {
      "name": "python"
    }
  },
  "cells": [
    {
      "cell_type": "markdown",
      "metadata": {
        "id": "view-in-github",
        "colab_type": "text"
      },
      "source": [
        "<a href=\"https://colab.research.google.com/github/Ldkhanhduy/baitaptrenlop_k3/blob/main/Baitapdictionarytrenlop_k3.ipynb\" target=\"_parent\"><img src=\"https://colab.research.google.com/assets/colab-badge.svg\" alt=\"Open In Colab\"/></a>"
      ]
    },
    {
      "cell_type": "markdown",
      "source": [
        "Câu 1: Hãy tạo ra một biến d kiểu dictionary có giá trị như sau:\n",
        "- In ra màn hình phần tử của d có giá trị key là ‘producer’;\n",
        "- In toàn bộ d ra màn hình."
      ],
      "metadata": {
        "id": "bcZ9naSuXK3E"
      }
    },
    {
      "cell_type": "code",
      "execution_count": 2,
      "metadata": {
        "colab": {
          "base_uri": "https://localhost:8080/"
        },
        "id": "jyFu47qXXFS4",
        "outputId": "d97bd438-de6f-4945-d085-5bfa428617dc"
      },
      "outputs": [
        {
          "output_type": "stream",
          "name": "stdout",
          "text": [
            "d1[\"producer\"]= Dell\n",
            "{'producer': 'Dell', 'model': 'Inspiron', 'year': 2017}\n"
          ]
        }
      ],
      "source": [
        "d1={\"producer\": \"Dell\",\"model\": \"Inspiron\",\"year\": 2017}\n",
        "print(\"d1[\\\"producer\\\"]=\",d1[\"producer\"])\n",
        "print(d1)"
      ]
    },
    {
      "cell_type": "markdown",
      "source": [
        "Câu 2: Hãy tạo ra một biến d kiểu dictionary có giá trị như sau:\n",
        "- In ra màn hình phần tử của d có giá trị key là ‘colors’;\n",
        "- Thay đổi giá trị của phàn tử có key là ‘producer’ thành ‘Google Inc.’;\n",
        "- In toàn bộ d ra màn hình."
      ],
      "metadata": {
        "id": "Ckrp5lCCY3Cj"
      }
    },
    {
      "cell_type": "code",
      "source": [
        "d2={\"producer\": \"Dell\",\"model\": \"Inspiron\",\"year\": 2017,\"colors\": [\"red\", \"white\", \"blue\"]}\n",
        "print(\"d2[\\\"colors\\\"]=\",d2[\"colors\"])\n",
        "d2[\"producer\"]=\"Google Inc.\"\n",
        "print(\"d2=\",d2)"
      ],
      "metadata": {
        "colab": {
          "base_uri": "https://localhost:8080/"
        },
        "id": "BvO6cgp0ZNjb",
        "outputId": "240fe8f2-cd8e-4fd2-ba25-d55b6da72a6a"
      },
      "execution_count": 20,
      "outputs": [
        {
          "output_type": "stream",
          "name": "stdout",
          "text": [
            "d2[\"colors\"]= ['red', 'white', 'blue']\n",
            "d2= {'producer': 'Google Inc.', 'model': 'Inspiron', 'year': 2017, 'colors': ['red', 'white', 'blue']}\n"
          ]
        }
      ]
    },
    {
      "cell_type": "markdown",
      "source": [
        "Câu 3: Cấu trúc dữ liệu dictionary được ứng dụng nhiều trong lưu trữ và trao đổi dữ liệu trong\n",
        "môi trường mạng. Để thực hiện điều này, định dạng dữ liệu JSON có cấu trúc tương tự như\n",
        "dictionary được sử dụng. Điểm khác biệt duy nhất là JSON ở dạng text/chuỗi nghĩa là được bọc\n",
        "trong cụm dấu “ ”."
      ],
      "metadata": {
        "id": "P_5PO33Ta8-0"
      }
    },
    {
      "cell_type": "code",
      "source": [
        "import json\n",
        "\n",
        "x=json.dumps(d2)\n",
        "print(\"x=\",x)\n",
        "print(type(x))"
      ],
      "metadata": {
        "colab": {
          "base_uri": "https://localhost:8080/"
        },
        "id": "iKtQKHfXa-oD",
        "outputId": "2323ed1e-6987-4a1b-d87d-01a741b86bbe"
      },
      "execution_count": 21,
      "outputs": [
        {
          "output_type": "stream",
          "name": "stdout",
          "text": [
            "x= {\"producer\": \"Google Inc.\", \"model\": \"Inspiron\", \"year\": 2017, \"colors\": [\"red\", \"white\", \"blue\"]}\n",
            "<class 'str'>\n"
          ]
        }
      ]
    },
    {
      "cell_type": "markdown",
      "source": [
        "Câu 4: Bài tập mở rộng: sử dụng tài liệu tham khảo để lập trình đọc dữ liệu định dạng JSON từ\n",
        "mạng Internet và:\n",
        "- In kết quả ra màn hình;\n",
        "- Chuyển đổi dịnh dạng JSON đọc được thành cấu trúc dictionary và in kết quả ra màn hình."
      ],
      "metadata": {
        "id": "ikMMqgkubjtb"
      }
    },
    {
      "cell_type": "code",
      "source": [
        "from urllib.request import urlopen\n",
        "import json\n",
        "\n",
        "url = \"https://api.github.com/users/Ldkhanhduy\"\n",
        "manguon=urlopen(url)\n",
        "print(manguon)\n",
        "dic=json.loads(manguon.read())\n",
        "print(dic)\n"
      ],
      "metadata": {
        "colab": {
          "base_uri": "https://localhost:8080/"
        },
        "id": "4lqWuvLabo97",
        "outputId": "a96c03d1-fbd4-49df-83ba-7aa4157b17d3"
      },
      "execution_count": 19,
      "outputs": [
        {
          "output_type": "stream",
          "name": "stdout",
          "text": [
            "<http.client.HTTPResponse object at 0x7fd21858a1d0>\n",
            "{'login': 'Ldkhanhduy', 'id': 90101790, 'node_id': 'MDQ6VXNlcjkwMTAxNzkw', 'avatar_url': 'https://avatars.githubusercontent.com/u/90101790?v=4', 'gravatar_id': '', 'url': 'https://api.github.com/users/Ldkhanhduy', 'html_url': 'https://github.com/Ldkhanhduy', 'followers_url': 'https://api.github.com/users/Ldkhanhduy/followers', 'following_url': 'https://api.github.com/users/Ldkhanhduy/following{/other_user}', 'gists_url': 'https://api.github.com/users/Ldkhanhduy/gists{/gist_id}', 'starred_url': 'https://api.github.com/users/Ldkhanhduy/starred{/owner}{/repo}', 'subscriptions_url': 'https://api.github.com/users/Ldkhanhduy/subscriptions', 'organizations_url': 'https://api.github.com/users/Ldkhanhduy/orgs', 'repos_url': 'https://api.github.com/users/Ldkhanhduy/repos', 'events_url': 'https://api.github.com/users/Ldkhanhduy/events{/privacy}', 'received_events_url': 'https://api.github.com/users/Ldkhanhduy/received_events', 'type': 'User', 'site_admin': False, 'name': None, 'company': None, 'blog': '', 'location': None, 'email': None, 'hireable': None, 'bio': None, 'twitter_username': None, 'public_repos': 22, 'public_gists': 0, 'followers': 0, 'following': 0, 'created_at': '2021-09-04T14:42:56Z', 'updated_at': '2022-11-02T07:31:43Z'}\n"
          ]
        }
      ]
    }
  ]
}