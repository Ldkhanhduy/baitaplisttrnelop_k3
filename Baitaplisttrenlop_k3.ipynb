{
  "nbformat": 4,
  "nbformat_minor": 0,
  "metadata": {
    "colab": {
      "provenance": [],
      "authorship_tag": "ABX9TyMpBu4q8ND8Zh+zScy9d3f1",
      "include_colab_link": true
    },
    "kernelspec": {
      "name": "python3",
      "display_name": "Python 3"
    },
    "language_info": {
      "name": "python"
    }
  },
  "cells": [
    {
      "cell_type": "markdown",
      "metadata": {
        "id": "view-in-github",
        "colab_type": "text"
      },
      "source": [
        "<a href=\"https://colab.research.google.com/github/Ldkhanhduy/baitaplisttrnelop_k3/blob/main/Baitaplisttrenlop_k3.ipynb\" target=\"_parent\"><img src=\"https://colab.research.google.com/assets/colab-badge.svg\" alt=\"Open In Colab\"/></a>"
      ]
    },
    {
      "cell_type": "markdown",
      "source": [
        "Câu 1: Sử dụng câu lệnh lặp for thực hiện vòng lặp có chỉ số đi từ 0 đến, tại mỗi bước lặp gán giá\n",
        "trị chỉ số này cho phần tử tương ứng của cấu trúc list. Biết n nguyên dương nhập vào từ bàn phím."
      ],
      "metadata": {
        "id": "b9KRZoYPHQ0f"
      }
    },
    {
      "cell_type": "code",
      "execution_count": 14,
      "metadata": {
        "colab": {
          "base_uri": "https://localhost:8080/"
        },
        "id": "KRmC4Z3XHJOA",
        "outputId": "3a604477-53ab-46fd-9cb3-4de47c3a0465"
      },
      "outputs": [
        {
          "output_type": "stream",
          "name": "stdout",
          "text": [
            "Nhap n=5\n",
            "[0, 1, 2, 3, 4]\n"
          ]
        }
      ],
      "source": [
        "x=[]\n",
        "n=int(input(\"Nhap n=\"))\n",
        "while n<0:\n",
        "    n=int(input(\"n phai la so nguyen duong, nhap lai:\"))\n",
        "else:\n",
        "    for i in range(n):\n",
        "        x.append(i)\n",
        "print(x)"
      ]
    },
    {
      "cell_type": "markdown",
      "source": [
        "Câu 2: Sử dụng cấu trúc list được tạo ra ở câu 1, hãy thực hiện:\n",
        "- Tính tổng của list bằng kỹ thuật cộng dồn và in kết quả ra màn hình;\n",
        "- Tính tích của list bằng kỹ thuật nhân dồn và in kết quả ra màn hình.\n",
        "\n"
      ],
      "metadata": {
        "id": "UhGZ_PZrH54_"
      }
    },
    {
      "cell_type": "code",
      "source": [
        "S=0\n",
        "P=0\n",
        "for i in range(len(x)):\n",
        "  P+=x[i]\n",
        "  S*=x[i]\n",
        "print(\"Tong cua list x la:\",P)\n",
        "print(\"Tich cua list x la:\",S)"
      ],
      "metadata": {
        "colab": {
          "base_uri": "https://localhost:8080/"
        },
        "id": "e-FxBcDEHVUH",
        "outputId": "2f1ec6f0-7bfa-4264-89da-67379e97bcb2"
      },
      "execution_count": 9,
      "outputs": [
        {
          "output_type": "stream",
          "name": "stdout",
          "text": [
            "Tong cua list x la: 10\n",
            "Tich cua list x la: 0\n"
          ]
        }
      ]
    },
    {
      "cell_type": "markdown",
      "source": [
        "Câu 3: Sử dụng vòng lặp for, hãy thực hiện:\n",
        "- In các giá trị của list ở trên ra màn hình theo chiều từ trái sang phải;\n",
        "- In các giá trị của list ở trên ra màn hình theo chiều từ phải sang trái."
      ],
      "metadata": {
        "id": "RS0in4PvJGsA"
      }
    },
    {
      "cell_type": "code",
      "source": [
        "list1=[]\n",
        "list2=[]\n",
        "print(\"In các giá trị của list ở trên ra màn hình theo chiều từ trái sang phải\")\n",
        "for i in range(len(x)):\n",
        "  list1.append(x[i])\n",
        "print(list1)\n",
        "print(\"In các giá trị của list ở trên ra màn hình theo chiều từ phải sang trái\")\n",
        "for i in range(1,len(x)+1):\n",
        "  list2.append(x[-i])\n",
        "print(list2)"
      ],
      "metadata": {
        "colab": {
          "base_uri": "https://localhost:8080/"
        },
        "id": "K-ykqY2dJHSf",
        "outputId": "4fe937c0-ea3d-478a-c1ef-d3301340cf33"
      },
      "execution_count": 6,
      "outputs": [
        {
          "output_type": "stream",
          "name": "stdout",
          "text": [
            "In các giá trị của list ở trên ra màn hình theo chiều từ trái sang phải\n",
            "[0, 1, 2, 3, 4]\n",
            "In các giá trị của list ở trên ra màn hình theo chiều từ phải sang trái\n",
            "[4, 3, 2, 1, 0]\n"
          ]
        }
      ]
    },
    {
      "cell_type": "markdown",
      "source": [
        "Câu 4: Sử dụng cấu trúc list ở câu 1, hãy thực hiện:\n",
        "- Nhập vào từ bàn phím chỉ số của 2 phần tử khác nhau của list, có kiểm tra tính hợp lệ của\n",
        "chỉ số;\n",
        "- Hoán vị 2 phần tử này;\n",
        "- In list sau khi hoán vị ra màn hình.\n",
        "\n",
        "---\n",
        "\n"
      ],
      "metadata": {
        "id": "6rlJxmz8LDyH"
      }
    },
    {
      "cell_type": "code",
      "source": [
        "a=abs(int(input(\"Nhap chi so a:\")))\n",
        "while a>len(x):\n",
        "  a=abs(int(input(\"Chi so vuot qua do dai cua list x, nhap lai:\")))\n",
        "else:\n",
        "  b=abs(int(input(\"Nhap chi so b:\")))\n",
        "  while b>len(x) or b==a:\n",
        "    b=abs(int(input(\"Chi so khong hop le, nhap lai:\")))\n",
        "  else:\n",
        "    print(\"x[\",a,\"]=\",x[a])\n",
        "    print(\"x[\",b,\"]=\",x[b])\n",
        "    tam=0\n",
        "    print(\"Hoan vi gia tri cua hai chi so a va b\")\n",
        "    tam=x[a]\n",
        "    x[a]=x[b]\n",
        "    x[b]=tam\n",
        "    print('''Gia tri tai chi so a va b da thay doi:\n",
        "    x[''',a,''']=''',x[a],'''\n",
        "    x[''',b,''']=''',x[b])\n",
        "print(\"list da thay doi:\",x)\n"
      ],
      "metadata": {
        "colab": {
          "base_uri": "https://localhost:8080/"
        },
        "id": "KTG3m7usLnXn",
        "outputId": "1cd13719-a87e-4895-aab0-e72e7349427a"
      },
      "execution_count": 16,
      "outputs": [
        {
          "output_type": "stream",
          "name": "stdout",
          "text": [
            "Nhap chi so a:4\n",
            "Nhap chi so b:1\n",
            "x[ 4 ]= 4\n",
            "x[ 1 ]= 1\n",
            "Hoan vi gia tri cua hai chi so a va b\n",
            "Gia tri tai chi so a va b da thay doi:\n",
            "    x[ 4 ]= 1 \n",
            "    x[ 1 ]= 4\n",
            "list da thay doi: [0, 4, 2, 3, 1]\n"
          ]
        }
      ]
    },
    {
      "cell_type": "markdown",
      "source": [
        "Câu 5: Sử dụng cấu trúc list ở câu 4, hãy thực hiện:\n",
        "- Nhập vào 1 giá trị nguyên dương x từ bàn phím;\n",
        "- Sử dụng câu lệnh lặp for để tìm kiếm phần tử nào trong list có giá trị bằng với x. Nếu tìm\n",
        "thấy thì in ra màn hình vị trí của phàn tử đó trong list. Nếu không tìm thấy thì thông báo\n",
        "‘không tìm thấy’ ra màn hình;\n",
        "- Sử dụng câu lệnh lặp for để tìm ra tất cả những phần tử có giá trị > x trong list và in ra màn\n",
        "hình vị trí và giá trị của các phần tử này;\n",
        "- Sử dụng câu lệnh lặp for để tìm ra tất cả những phần tử có giá trị < x trong list và in ra màn\n",
        "hình vị trí và giá trị của các phần tử này"
      ],
      "metadata": {
        "id": "_0AGKKbgRAQA"
      }
    },
    {
      "cell_type": "code",
      "source": [
        "X=abs(int(input(\"nhap X=\")))\n",
        "lista=[]\n",
        "listb=[]\n",
        "if X in x:\n",
        "  for i in range(len(x)):\n",
        "    if X==x[i]:\n",
        "      print(X,\"=x[\",i,\"]=\",x[i])\n",
        "else:\n",
        "  print(\"Khong tim thay\")\n",
        "for i in range(len(x)):\n",
        "  if X<x[i]:\n",
        "    lista.append(x[i])\n",
        "print(\"nhung gia tri trong list x lon hon X=\",X,\"la:\",lista)\n",
        "for i in range(len(x)):\n",
        "  if X>x[i]:\n",
        "    listb.append(x[i])\n",
        "print(\"nhung gia tri trong list x nho hon X=\",X,\"la:\",listb)"
      ],
      "metadata": {
        "colab": {
          "base_uri": "https://localhost:8080/"
        },
        "id": "EDUQE84JRFQm",
        "outputId": "7fee8e91-4d40-4ee8-cd58-8777d8473d09"
      },
      "execution_count": 18,
      "outputs": [
        {
          "output_type": "stream",
          "name": "stdout",
          "text": [
            "nhap X=-2\n",
            "2 =x[ 2 ]= 2\n",
            "nhung gia tri trong list x lon hon X= 2 la: [4, 3]\n",
            "nhung gia tri trong list x nho hon X= 2 la: [0, 1]\n"
          ]
        }
      ]
    }
  ]
}