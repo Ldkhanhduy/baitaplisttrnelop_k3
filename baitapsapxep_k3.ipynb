{
  "nbformat": 4,
  "nbformat_minor": 0,
  "metadata": {
    "colab": {
      "provenance": [],
      "authorship_tag": "ABX9TyORRbgELNoiFDuCjY+omnPj",
      "include_colab_link": true
    },
    "kernelspec": {
      "name": "python3",
      "display_name": "Python 3"
    },
    "language_info": {
      "name": "python"
    }
  },
  "cells": [
    {
      "cell_type": "markdown",
      "metadata": {
        "id": "view-in-github",
        "colab_type": "text"
      },
      "source": [
        "<a href=\"https://colab.research.google.com/github/Ldkhanhduy/baitaptrenlop_k3/blob/main/baitapsapxep_k3.ipynb\" target=\"_parent\"><img src=\"https://colab.research.google.com/assets/colab-badge.svg\" alt=\"Open In Colab\"/></a>"
      ]
    },
    {
      "cell_type": "markdown",
      "source": [
        "Cau 1"
      ],
      "metadata": {
        "id": "4e3DEVrnUbU4"
      }
    },
    {
      "cell_type": "code",
      "source": [
        "#Cau 1\n",
        "import random\n",
        "\n",
        "n=abs(int(input(\"nhap mot so nguyen n:\")))\n",
        "list1=[random.random() for i in range(n)]\n",
        "print(\"list1=\",list1)"
      ],
      "metadata": {
        "colab": {
          "base_uri": "https://localhost:8080/"
        },
        "id": "wYT8qq9nTxIv",
        "outputId": "a67369d9-6957-4596-964f-14aa0b3268c3"
      },
      "execution_count": 40,
      "outputs": [
        {
          "output_type": "stream",
          "name": "stdout",
          "text": [
            "nhap mot so nguyen n:6\n",
            "list1= [0.4836095845220446, 0.8030948949622071, 0.2913051482462584, 0.8046101367317978, 0.13077273760093377, 0.10777943232382803]\n"
          ]
        }
      ]
    },
    {
      "cell_type": "markdown",
      "source": [
        "Cau 2"
      ],
      "metadata": {
        "id": "3YaRNCj5UeFf"
      }
    },
    {
      "cell_type": "code",
      "source": [
        "def sinh_vecto_so_nguyen(n):\n",
        "  list2=[random.randint(-10,10) for i in range(n)]\n",
        "  return list2"
      ],
      "metadata": {
        "id": "5Go5MArlUUlH"
      },
      "execution_count": 41,
      "outputs": []
    },
    {
      "cell_type": "code",
      "source": [
        "def main():\n",
        "  n=abs(int(input(\"nhap mot so nguyen n:\")))\n",
        "  list21=sinh_vecto_so_nguyen(n)\n",
        "  print(list21)"
      ],
      "metadata": {
        "id": "WZdKbycJU4hR"
      },
      "execution_count": 42,
      "outputs": []
    },
    {
      "cell_type": "code",
      "source": [
        "if __name__=='__main__':\n",
        "  main()"
      ],
      "metadata": {
        "colab": {
          "base_uri": "https://localhost:8080/"
        },
        "id": "2RJvelUYVcUv",
        "outputId": "88ab7f17-b4d7-4900-bbb4-bdf31210427c"
      },
      "execution_count": 43,
      "outputs": [
        {
          "output_type": "stream",
          "name": "stdout",
          "text": [
            "nhap mot so nguyen n:6\n",
            "[1, -2, 9, 7, -3, -4]\n"
          ]
        }
      ]
    },
    {
      "cell_type": "markdown",
      "source": [
        "Cau 3"
      ],
      "metadata": {
        "id": "amEaz4NYWHOJ"
      }
    },
    {
      "cell_type": "code",
      "source": [
        "for i in range(len(list1)-1):\n",
        "  for j in range(i+1,len(list1)):\n",
        "    if list1[i]>list1[j]:\n",
        "      list1[i],list1[j]=list1[j],list1[i]\n",
        "print(\"list1 sau khi da sap xep:\",list1)"
      ],
      "metadata": {
        "colab": {
          "base_uri": "https://localhost:8080/"
        },
        "id": "SWe2b8eLWIVY",
        "outputId": "7e949190-ee09-4985-dc47-c668e5f0197c"
      },
      "execution_count": 44,
      "outputs": [
        {
          "output_type": "stream",
          "name": "stdout",
          "text": [
            "list1 sau khi da sap xep: [0.10777943232382803, 0.13077273760093377, 0.2913051482462584, 0.4836095845220446, 0.8030948949622071, 0.8046101367317978]\n"
          ]
        }
      ]
    },
    {
      "cell_type": "markdown",
      "source": [
        "Cau 4"
      ],
      "metadata": {
        "id": "S0DWClvLWt7R"
      }
    },
    {
      "cell_type": "code",
      "source": [
        "def sap_xep_tang_dan(v):\n",
        "  a=abs(int(input('a=')))\n",
        "  v=sinh_vecto_so_nguyen(a)\n",
        "  for i in range(len(v)-1):\n",
        "    for j in range(i+1,len(v)):\n",
        "      if v[i]>v[j]:\n",
        "        v[i],v[j]=v[j],v[i]\n",
        "  return v"
      ],
      "metadata": {
        "id": "TjBXQnY-WvP4"
      },
      "execution_count": 45,
      "outputs": []
    },
    {
      "cell_type": "code",
      "source": [
        "def main():\n",
        "  v=[]\n",
        "  v=sap_xep_tang_dan(v)\n",
        "  print('v=',v)"
      ],
      "metadata": {
        "id": "AV1LLGcbY7Qi"
      },
      "execution_count": 48,
      "outputs": []
    },
    {
      "cell_type": "code",
      "source": [
        "if __name__=='__main__':\n",
        "  main()"
      ],
      "metadata": {
        "colab": {
          "base_uri": "https://localhost:8080/"
        },
        "id": "IDLh4vifZRXI",
        "outputId": "c7f6f2f4-0fac-4946-ae98-953de1af78c7"
      },
      "execution_count": 49,
      "outputs": [
        {
          "output_type": "stream",
          "name": "stdout",
          "text": [
            "a=7\n",
            "v= [-9, 3, 4, 4, 6, 7, 10]\n"
          ]
        }
      ]
    },
    {
      "cell_type": "markdown",
      "source": [
        "Cau 5"
      ],
      "metadata": {
        "id": "ME8eDbH5a-DP"
      }
    },
    {
      "cell_type": "code",
      "source": [
        "def sap_xep_giam_dan(v):\n",
        "  a=abs(int(input('a=')))\n",
        "  v=sinh_vecto_so_nguyen(a)\n",
        "  for i in range(len(v)-1):\n",
        "    for j in range(i+1,len(v)):\n",
        "      if v[i]<v[j]:\n",
        "        v[i],v[j]=v[j],v[i]\n",
        "  return v"
      ],
      "metadata": {
        "id": "BUDC3meWa9qQ"
      },
      "execution_count": 53,
      "outputs": []
    },
    {
      "cell_type": "code",
      "source": [
        "def main():\n",
        "  v=[]\n",
        "  v=sap_xep_giam_dan(v)\n",
        "  print('v=',v)"
      ],
      "metadata": {
        "id": "wM5w1wOtbgUw"
      },
      "execution_count": 51,
      "outputs": []
    },
    {
      "cell_type": "code",
      "source": [
        "if __name__=='__main__':\n",
        "  main()"
      ],
      "metadata": {
        "colab": {
          "base_uri": "https://localhost:8080/"
        },
        "id": "7t7HzOdVbh24",
        "outputId": "7132bd22-00c9-43c2-adab-981ff10a889d"
      },
      "execution_count": 52,
      "outputs": [
        {
          "output_type": "stream",
          "name": "stdout",
          "text": [
            "a=8\n",
            "v= [10, 10, 9, 6, 3, -1, -1, -4]\n"
          ]
        }
      ]
    },
    {
      "cell_type": "markdown",
      "source": [
        "Cau 6"
      ],
      "metadata": {
        "id": "qkwyooeHb4YI"
      }
    },
    {
      "cell_type": "code",
      "source": [
        "def sap_xep(v,flag):\n",
        "  v=[]\n",
        "  if flag==True:\n",
        "    v=sap_xep_tang_dan(v)\n",
        "  else:\n",
        "    v=sap_xep_giam_dan(v)\n",
        "  return v"
      ],
      "metadata": {
        "id": "ZVcZg18jb8Sq"
      },
      "execution_count": 62,
      "outputs": []
    },
    {
      "cell_type": "code",
      "source": [
        "def main():\n",
        "  v=[]\n",
        "  v=sap_xep(v,True)\n",
        "  print(v)"
      ],
      "metadata": {
        "id": "AZKqBPp0fuWJ"
      },
      "execution_count": 67,
      "outputs": []
    },
    {
      "cell_type": "code",
      "source": [
        "if __name__=='__main__':\n",
        "  main()"
      ],
      "metadata": {
        "colab": {
          "base_uri": "https://localhost:8080/"
        },
        "id": "-QoLKc1nf-8J",
        "outputId": "16328fba-7aa1-48b8-c079-4ef15139a8b2"
      },
      "execution_count": 68,
      "outputs": [
        {
          "output_type": "stream",
          "name": "stdout",
          "text": [
            "a=10\n",
            "[-4, -3, 3, 3, 3, 5, 5, 5, 9, 10]\n"
          ]
        }
      ]
    }
  ]
}