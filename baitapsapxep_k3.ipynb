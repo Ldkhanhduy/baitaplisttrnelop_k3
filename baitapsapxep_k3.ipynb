{
  "nbformat": 4,
  "nbformat_minor": 0,
  "metadata": {
    "colab": {
      "provenance": [],
      "authorship_tag": "ABX9TyOz0JQqmW1p8tJTW0cuCNE6",
      "include_colab_link": true
    },
    "kernelspec": {
      "name": "python3",
      "display_name": "Python 3"
    },
    "language_info": {
      "name": "python"
    }
  },
  "cells": [
    {
      "cell_type": "markdown",
      "metadata": {
        "id": "view-in-github",
        "colab_type": "text"
      },
      "source": [
        "<a href=\"https://colab.research.google.com/github/Ldkhanhduy/baitaptrenlop_k3/blob/main/baitapsapxep_k3.ipynb\" target=\"_parent\"><img src=\"https://colab.research.google.com/assets/colab-badge.svg\" alt=\"Open In Colab\"/></a>"
      ]
    },
    {
      "cell_type": "markdown",
      "source": [
        "Cau 1"
      ],
      "metadata": {
        "id": "4e3DEVrnUbU4"
      }
    },
    {
      "cell_type": "code",
      "source": [
        "#Cau 1\n",
        "import random\n",
        "\n",
        "n=abs(int(input(\"nhap mot so nguyen n:\")))\n",
        "list1=[random.random() for i in range(n)]\n",
        "print(\"list1=\",list1)"
      ],
      "metadata": {
        "colab": {
          "base_uri": "https://localhost:8080/"
        },
        "id": "wYT8qq9nTxIv",
        "outputId": "3a15963e-7407-4881-a8fe-d817c344db09"
      },
      "execution_count": null,
      "outputs": [
        {
          "output_type": "stream",
          "name": "stdout",
          "text": [
            "nhap mot so nguyen n:9\n",
            "list1= [0.6702041064428, 0.3453974392802296, 0.3201449988999653, 0.10810899983881073, 0.2953947087843437, 0.2588292957759123, 0.5397744114346488, 0.39717112454363146, 0.41679027643884015]\n"
          ]
        }
      ]
    },
    {
      "cell_type": "markdown",
      "source": [
        "Cau 2"
      ],
      "metadata": {
        "id": "3YaRNCj5UeFf"
      }
    },
    {
      "cell_type": "code",
      "source": [
        "def sinh_vecto_so_nguyen(n):\n",
        "  list2=[random.randint(-10,10) for i in range(n)]\n",
        "  return list2"
      ],
      "metadata": {
        "id": "5Go5MArlUUlH"
      },
      "execution_count": null,
      "outputs": []
    },
    {
      "cell_type": "code",
      "source": [
        "def main():\n",
        "  n=abs(int(input(\"nhap mot so nguyen n:\")))\n",
        "  list21=sinh_vecto_so_nguyen(n)\n",
        "  print(list21)"
      ],
      "metadata": {
        "id": "WZdKbycJU4hR"
      },
      "execution_count": null,
      "outputs": []
    },
    {
      "cell_type": "code",
      "source": [
        "if __name__=='__main__':\n",
        "  main()"
      ],
      "metadata": {
        "colab": {
          "base_uri": "https://localhost:8080/"
        },
        "id": "2RJvelUYVcUv",
        "outputId": "a6938d38-ac17-4ccd-cb13-cb70c6a372ac"
      },
      "execution_count": null,
      "outputs": [
        {
          "output_type": "stream",
          "name": "stdout",
          "text": [
            "nhap mot so nguyen n:8\n",
            "[10, 3, -6, 1, -5, 3, -2, 4]\n"
          ]
        }
      ]
    },
    {
      "cell_type": "markdown",
      "source": [
        "Cau 3"
      ],
      "metadata": {
        "id": "amEaz4NYWHOJ"
      }
    },
    {
      "cell_type": "code",
      "source": [
        "list12=list1.copy()\n",
        "for i in range(len(list12)-1):\n",
        "  for j in range(i+1,len(list12)):\n",
        "    if list12[i]>list12[j]:\n",
        "      list12[i],list12[j]=list12[j],list12[i]\n",
        "print(\"list sau khi da sap xep:\",list12)\n",
        "print(\"list ban dau:\",list1)"
      ],
      "metadata": {
        "colab": {
          "base_uri": "https://localhost:8080/"
        },
        "id": "SWe2b8eLWIVY",
        "outputId": "66acbeca-f3f1-41ae-fa46-16ea7adf4454"
      },
      "execution_count": null,
      "outputs": [
        {
          "output_type": "stream",
          "name": "stdout",
          "text": [
            "list sau khi da sap xep: [0.10810899983881073, 0.2588292957759123, 0.2953947087843437, 0.3201449988999653, 0.3453974392802296, 0.39717112454363146, 0.41679027643884015, 0.5397744114346488, 0.6702041064428]\n",
            "list ban dau: [0.6702041064428, 0.3453974392802296, 0.3201449988999653, 0.10810899983881073, 0.2953947087843437, 0.2588292957759123, 0.5397744114346488, 0.39717112454363146, 0.41679027643884015]\n"
          ]
        }
      ]
    },
    {
      "cell_type": "markdown",
      "source": [
        "Cau 4"
      ],
      "metadata": {
        "id": "S0DWClvLWt7R"
      }
    },
    {
      "cell_type": "code",
      "source": [
        "def sap_xep_tang_dan(v):\n",
        "  a=abs(int(input('a=')))\n",
        "  v=sinh_vecto_so_nguyen(a)\n",
        "  v1=v.copy()\n",
        "  for i in range(len(v1)-1):\n",
        "    for j in range(i+1,len(v1)):\n",
        "      if v1[i]>v1[j]:\n",
        "        v1[i],v1[j]=v1[j],v1[i]\n",
        "  return v1"
      ],
      "metadata": {
        "id": "TjBXQnY-WvP4"
      },
      "execution_count": null,
      "outputs": []
    },
    {
      "cell_type": "code",
      "source": [
        "def main():\n",
        "  v=[]\n",
        "  v=sap_xep_tang_dan(v)\n",
        "  print('v=',v)"
      ],
      "metadata": {
        "id": "AV1LLGcbY7Qi"
      },
      "execution_count": null,
      "outputs": []
    },
    {
      "cell_type": "code",
      "source": [
        "if __name__=='__main__':\n",
        "  main()"
      ],
      "metadata": {
        "colab": {
          "base_uri": "https://localhost:8080/"
        },
        "id": "IDLh4vifZRXI",
        "outputId": "74b22593-8233-43f7-8af0-34e7d4d4a1bd"
      },
      "execution_count": null,
      "outputs": [
        {
          "output_type": "stream",
          "name": "stdout",
          "text": [
            "a=7\n",
            "v= [-10, -9, -6, -5, -3, 0, 9]\n"
          ]
        }
      ]
    },
    {
      "cell_type": "markdown",
      "source": [
        "Cau 5"
      ],
      "metadata": {
        "id": "ME8eDbH5a-DP"
      }
    },
    {
      "cell_type": "code",
      "source": [
        "def sap_xep_giam_dan(v):\n",
        "  a=abs(int(input('a=')))\n",
        "  v=sinh_vecto_so_nguyen(a)\n",
        "  v2=v.copy()\n",
        "  for i in range(len(v2)-1):\n",
        "    for j in range(i+1,len(v2)):\n",
        "      if v2[i]<v2[j]:\n",
        "        v2[i],v2[j]=v2[j],v2[i]\n",
        "  return v2"
      ],
      "metadata": {
        "id": "BUDC3meWa9qQ"
      },
      "execution_count": null,
      "outputs": []
    },
    {
      "cell_type": "code",
      "source": [
        "def main():\n",
        "  v=[]\n",
        "  v=sap_xep_giam_dan(v)\n",
        "  print('v=',v)"
      ],
      "metadata": {
        "id": "wM5w1wOtbgUw"
      },
      "execution_count": null,
      "outputs": []
    },
    {
      "cell_type": "code",
      "source": [
        "if __name__=='__main__':\n",
        "  main()"
      ],
      "metadata": {
        "colab": {
          "base_uri": "https://localhost:8080/"
        },
        "id": "7t7HzOdVbh24",
        "outputId": "26b2add4-c51b-4e59-bc7b-e48e91a1163d"
      },
      "execution_count": null,
      "outputs": [
        {
          "output_type": "stream",
          "name": "stdout",
          "text": [
            "a=8\n",
            "v= [5, 5, 0, -2, -3, -7, -9, -10]\n"
          ]
        }
      ]
    },
    {
      "cell_type": "markdown",
      "source": [
        "Cau 6"
      ],
      "metadata": {
        "id": "qkwyooeHb4YI"
      }
    },
    {
      "cell_type": "code",
      "source": [
        "def sap_xep(v,flag):\n",
        "  if flag==True:\n",
        "    return sap_xep_tang_dan(v)\n",
        "  else:\n",
        "    return sap_xep_giam_dan(v)"
      ],
      "metadata": {
        "id": "ZVcZg18jb8Sq"
      },
      "execution_count": null,
      "outputs": []
    },
    {
      "cell_type": "code",
      "source": [
        "def main():\n",
        "  v=[]\n",
        "  v=sap_xep(v,True)\n",
        "  print(v)"
      ],
      "metadata": {
        "id": "AZKqBPp0fuWJ"
      },
      "execution_count": null,
      "outputs": []
    },
    {
      "cell_type": "code",
      "source": [
        "if __name__=='__main__':\n",
        "  main()"
      ],
      "metadata": {
        "colab": {
          "base_uri": "https://localhost:8080/"
        },
        "id": "-QoLKc1nf-8J",
        "outputId": "1fa22724-3f47-4580-a152-5810116bb2e0"
      },
      "execution_count": null,
      "outputs": [
        {
          "output_type": "stream",
          "name": "stdout",
          "text": [
            "a=9\n",
            "[-7, -3, 0, 1, 1, 2, 7, 9, 9]\n"
          ]
        }
      ]
    }
  ]
}