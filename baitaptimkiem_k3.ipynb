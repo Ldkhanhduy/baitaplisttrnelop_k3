{
  "nbformat": 4,
  "nbformat_minor": 0,
  "metadata": {
    "colab": {
      "provenance": [],
      "authorship_tag": "ABX9TyPPxR+Kw6QrhqYephv5Xyvn",
      "include_colab_link": true
    },
    "kernelspec": {
      "name": "python3",
      "display_name": "Python 3"
    },
    "language_info": {
      "name": "python"
    }
  },
  "cells": [
    {
      "cell_type": "markdown",
      "metadata": {
        "id": "view-in-github",
        "colab_type": "text"
      },
      "source": [
        "<a href=\"https://colab.research.google.com/github/Ldkhanhduy/baitaptrenlop_k3/blob/main/baitaptimkiem_k3.ipynb\" target=\"_parent\"><img src=\"https://colab.research.google.com/assets/colab-badge.svg\" alt=\"Open In Colab\"/></a>"
      ]
    },
    {
      "cell_type": "markdown",
      "source": [
        "Cau 1"
      ],
      "metadata": {
        "id": "728Be4_T7yi1"
      }
    },
    {
      "cell_type": "code",
      "source": [
        "import random"
      ],
      "metadata": {
        "id": "SMqravP48j-1"
      },
      "execution_count": 3,
      "outputs": []
    },
    {
      "cell_type": "code",
      "execution_count": 4,
      "metadata": {
        "id": "SCeRfuyp7lGP"
      },
      "outputs": [],
      "source": [
        "def tim_vi_tri_dau_tien(v,n):\n",
        "  a=abs(int(input('a=')))\n",
        "  v=[random.randint(-10,10) for i in range(a)]\n",
        "  i=0\n",
        "  print('v=',v)\n",
        "  while i < len(v):\n",
        "    if v[i]==n:\n",
        "      print('vi tri dau tien cua',n,'trong list v la:',i)\n",
        "      break\n",
        "    else:\n",
        "      i+=1\n",
        "  else:\n",
        "    print('khong tim thay')"
      ]
    },
    {
      "cell_type": "markdown",
      "source": [
        "Cau 2"
      ],
      "metadata": {
        "id": "eoXgBgL7Abn2"
      }
    },
    {
      "cell_type": "code",
      "source": [
        "def tim_vi_tri_cuoi_cung(v,n):\n",
        "  a=abs(int(input('a=')))\n",
        "  v=[random.randint(-10,10) for i in range(a)]\n",
        "  i=0\n",
        "  timkiem=None\n",
        "  print('v=',v)\n",
        "  while i < len(v):\n",
        "    if v[i]==n:\n",
        "      timkiem=i  \n",
        "      #Hoặc có thể dùng lệnh 'for i in range(-1,-len(v))'. Thầy coi tạm như vậy nha :)\n",
        "    i+=1\n",
        "  if timkiem!=None:\n",
        "    print('vi tri cuoi cung cua',n,'trong list v la:',timkiem)\n",
        "  else:\n",
        "    print(\"khong tim thay\")"
      ],
      "metadata": {
        "id": "AkW1kdXOAdVX"
      },
      "execution_count": 5,
      "outputs": []
    },
    {
      "cell_type": "markdown",
      "source": [
        "Cau 3\n"
      ],
      "metadata": {
        "id": "j2KPR1cdZLDP"
      }
    },
    {
      "cell_type": "code",
      "source": [
        "def dem_phan_tu(v,n):\n",
        "  dem=0\n",
        "  a=abs(int(input('a=')))\n",
        "  v=[random.randint(-10,10) for i in range(a)]\n",
        "  print('v=',v)\n",
        "  for i in range(len(v)):\n",
        "    if v[i]==n:\n",
        "      dem+=1\n",
        "      return print('so lan xuat hien trong list v la:',dem)\n",
        "  return print('Khong tim thay')"
      ],
      "metadata": {
        "id": "fwLWxssRtNxn"
      },
      "execution_count": 14,
      "outputs": []
    },
    {
      "cell_type": "markdown",
      "source": [
        "Cau 4"
      ],
      "metadata": {
        "id": "sgryDmBEwoE4"
      }
    },
    {
      "cell_type": "code",
      "source": [
        "def liet_ke_phan_tu(v,n):\n",
        "  a=abs(int(input('a=')))\n",
        "  v=[random.randint(-10,10) for i in range(a)]\n",
        "  i=0\n",
        "  timkiem=[]\n",
        "  print('v=',v)\n",
        "  if n not in v:\n",
        "    print(\"khong tim thay\")\n",
        "  else:\n",
        "    while i < len(v):\n",
        "      if v[i]==n:\n",
        "        timkiem.append(i)\n",
        "      i+=1\n",
        "    print('liet ke vi tri phan tu n xuat hien trong list v la', timkiem)"
      ],
      "metadata": {
        "id": "haXT2aiOwpa4"
      },
      "execution_count": 11,
      "outputs": []
    },
    {
      "cell_type": "markdown",
      "source": [
        "Cau 5"
      ],
      "metadata": {
        "id": "RHj08KImxS6Y"
      }
    },
    {
      "cell_type": "code",
      "source": [
        "def main():\n",
        "  v=[]\n",
        "  n=int(input(\"n=\"))\n",
        "  tim_vi_tri_dau_tien(v,n)\n",
        "  tim_vi_tri_cuoi_cung(v,n)\n",
        "  dem_phan_tu(v,n)\n",
        "  liet_ke_phan_tu(v,n)\n",
        "  "
      ],
      "metadata": {
        "id": "OS0IkCNtxSNg"
      },
      "execution_count": 12,
      "outputs": []
    },
    {
      "cell_type": "code",
      "source": [
        "if __name__=='__main__':\n",
        "  main()"
      ],
      "metadata": {
        "colab": {
          "base_uri": "https://localhost:8080/"
        },
        "id": "OZPGZngQDSbR",
        "outputId": "f4424438-8acb-4517-c61c-b583c99c88a1"
      },
      "execution_count": 15,
      "outputs": [
        {
          "output_type": "stream",
          "name": "stdout",
          "text": [
            "n=2\n",
            "a=30\n",
            "v= [7, -3, -7, -9, -5, -8, 1, -2, 9, 1, 7, 8, 9, -4, 7, -9, 9, 5, -7, -10, 5, 3, -3, 10, -2, -7, 5, -5, 7, 3]\n",
            "khong tim thay\n",
            "a=30\n",
            "v= [-8, -10, -9, -5, 1, 9, -2, 2, 4, 7, 10, -10, 1, -1, 9, -7, 3, 0, 8, -5, 3, 9, -3, 7, -1, 2, 3, -5, -2, 8]\n",
            "vi tri cuoi cung cua 2 trong list v la: 25\n",
            "a=30\n",
            "v= [10, -2, -5, 1, -1, -9, 3, -3, 6, -3, 6, 4, -5, 7, 1, -4, 8, -7, 10, 3, 10, 7, 1, -6, -6, -7, 1, -3, 10, 3]\n",
            "Khong tim thay\n",
            "a=30\n",
            "v= [-4, 0, -10, -2, 6, 1, -6, 8, -8, -1, -10, -3, 8, -9, 1, -4, 9, 7, -2, 2, 9, 10, 7, 9, -5, -10, -3, -9, -1, -2]\n",
            "liet ke vi tri phan tu n xuat hien trong list v la [19]\n"
          ]
        }
      ]
    }
  ]
}