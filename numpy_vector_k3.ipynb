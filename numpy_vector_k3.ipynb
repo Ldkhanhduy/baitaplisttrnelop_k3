{
  "nbformat": 4,
  "nbformat_minor": 0,
  "metadata": {
    "colab": {
      "provenance": [],
      "authorship_tag": "ABX9TyPrTuUZwZBmqJ3+WPLMRGXX",
      "include_colab_link": true
    },
    "kernelspec": {
      "name": "python3",
      "display_name": "Python 3"
    },
    "language_info": {
      "name": "python"
    }
  },
  "cells": [
    {
      "cell_type": "markdown",
      "metadata": {
        "id": "view-in-github",
        "colab_type": "text"
      },
      "source": [
        "<a href=\"https://colab.research.google.com/github/Ldkhanhduy/baitaptrenlop_k3/blob/main/numpy_vector_k3.ipynb\" target=\"_parent\"><img src=\"https://colab.research.google.com/assets/colab-badge.svg\" alt=\"Open In Colab\"/></a>"
      ]
    },
    {
      "cell_type": "code",
      "execution_count": 2,
      "metadata": {
        "id": "dmv6WFxjXJD4"
      },
      "outputs": [],
      "source": [
        "import numpy as d"
      ]
    },
    {
      "cell_type": "code",
      "source": [
        "def ham1(a,b,n):\n",
        "  v1=(b-a)*d.arange(n)+a\n",
        "  print(\"v1=\",v1)"
      ],
      "metadata": {
        "id": "QZKCvAByXUXF"
      },
      "execution_count": 44,
      "outputs": []
    },
    {
      "cell_type": "code",
      "source": [
        "def ham2(a,b,n):\n",
        "  v2=d.linspace(a,b,n)\n",
        "  print('v2=',v2)"
      ],
      "metadata": {
        "id": "1ehWlnicYlJn"
      },
      "execution_count": 28,
      "outputs": []
    },
    {
      "cell_type": "code",
      "source": [
        "def ham3(a,b,n):\n",
        "  d.random.seed(123)\n",
        "  v3=d.random.randint(a,b+1,n)\n",
        "  print('v3=',v3)\n",
        "  return v3"
      ],
      "metadata": {
        "id": "yfRanZQzYxN-"
      },
      "execution_count": 29,
      "outputs": []
    },
    {
      "cell_type": "code",
      "source": [
        "def ham4(a,b,n):\n",
        "  v4=((b+1)-a)*d.random.random_sample(n)+a\n",
        "  print('v4=',v4)"
      ],
      "metadata": {
        "id": "O3jPLEtWZcH-"
      },
      "execution_count": 30,
      "outputs": []
    },
    {
      "cell_type": "code",
      "source": [
        "def main():\n",
        "  n=abs(int(input(\"n=\")))\n",
        "  a=float(input('a='))\n",
        "  b=float(input('b='))\n",
        "  c=float(input('c='))\n",
        "  d=float(input('d='))\n",
        "  ham1(a,b,n)\n",
        "  ham2(c,d,n)\n",
        "  ham3(a,b,n)\n",
        "  ham4(c,d,n)"
      ],
      "metadata": {
        "id": "O3VXAfYcZ8wv"
      },
      "execution_count": 45,
      "outputs": []
    },
    {
      "cell_type": "code",
      "source": [
        "if __name__=='__main__':\n",
        "  main()"
      ],
      "metadata": {
        "colab": {
          "base_uri": "https://localhost:8080/"
        },
        "id": "B7lT563Ub7NJ",
        "outputId": "d96ca11c-5eee-4149-f3d5-cf0e190259f7"
      },
      "execution_count": 47,
      "outputs": [
        {
          "output_type": "stream",
          "name": "stdout",
          "text": [
            "n=5\n",
            "a=-3\n",
            "b=3\n",
            "c=-5.2\n",
            "d=2.3\n",
            "v1= [-3.  3.  9. 15. 21.]\n",
            "v2= [-5.2   -3.325 -1.45   0.425  2.3  ]\n",
            "v3= [ 3  2  3 -1  1]\n",
            "v4= [ 0.67252127  0.91277764 -1.02548907  1.43023598 -1.70714283]\n"
          ]
        }
      ]
    }
  ]
}