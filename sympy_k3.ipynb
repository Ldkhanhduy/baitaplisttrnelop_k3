{
  "nbformat": 4,
  "nbformat_minor": 0,
  "metadata": {
    "colab": {
      "provenance": [],
      "authorship_tag": "ABX9TyNz7PPwA/EPwCtfJyMWsChi",
      "include_colab_link": true
    },
    "kernelspec": {
      "name": "python3",
      "display_name": "Python 3"
    },
    "language_info": {
      "name": "python"
    }
  },
  "cells": [
    {
      "cell_type": "markdown",
      "metadata": {
        "id": "view-in-github",
        "colab_type": "text"
      },
      "source": [
        "<a href=\"https://colab.research.google.com/github/Ldkhanhduy/baitaptrenlop_k3/blob/main/sympy_k3.ipynb\" target=\"_parent\"><img src=\"https://colab.research.google.com/assets/colab-badge.svg\" alt=\"Open In Colab\"/></a>"
      ]
    },
    {
      "cell_type": "code",
      "source": [
        "from sympy import *"
      ],
      "metadata": {
        "id": "8Wz4NSAFO022"
      },
      "execution_count": 1,
      "outputs": []
    },
    {
      "cell_type": "markdown",
      "source": [
        "Giải phương trình"
      ],
      "metadata": {
        "id": "OmucAvU7OwZt"
      }
    },
    {
      "cell_type": "code",
      "execution_count": 12,
      "metadata": {
        "id": "JSHF2eU1OqVa"
      },
      "outputs": [],
      "source": [
        "#bai1\n",
        "def giai_pt1():\n",
        "  print(\"-2x+5=0\")\n",
        "  bien1=symbols('x')\n",
        "  pt1=Eq(-2*bien1+5,0)\n",
        "  kq1=solve(pt1,bien1)\n",
        "  print('nghiem x=',kq1)"
      ]
    },
    {
      "cell_type": "code",
      "source": [
        "#bai2\n",
        "def giai_pt2():\n",
        "  print(\"5x-9=0\")\n",
        "  bien2=symbols('x')\n",
        "  pt2=Eq(5*bien2-9,0)\n",
        "  kq2=solve(pt2,bien2)\n",
        "  print('nghiem x=',kq2)"
      ],
      "metadata": {
        "id": "HbTytswXPnOX"
      },
      "execution_count": 11,
      "outputs": []
    },
    {
      "cell_type": "markdown",
      "source": [
        "Giải hệ phương trình"
      ],
      "metadata": {
        "id": "YoDw_XeuP8o9"
      }
    },
    {
      "cell_type": "code",
      "source": [
        "#bai1\n",
        "def giai_he_2_an():\n",
        "  print('''x-y=3\n",
        "  3x-4y=4''')\n",
        "  x1, y1=symbols('x y')\n",
        "  pt1=Eq(x1-y1-3,0)\n",
        "  pt2=Eq(3*x1-4*y1-4,0)\n",
        "  kq1=solve((pt1,pt2),(x1,y1))\n",
        "  print(\"x, y lan luot la:\",kq1)"
      ],
      "metadata": {
        "id": "JI6snIfVP_rG"
      },
      "execution_count": 13,
      "outputs": []
    },
    {
      "cell_type": "code",
      "source": [
        "#bai2\n",
        "def giai_he_3_an():\n",
        "  print('''x-y+2z=4\n",
        "  2x-y+z=-1\n",
        "  x+y+z=5''')\n",
        "  x2,y2,z2=symbols('x y z')\n",
        "  pt1=Eq(x2-y2+2*z2,4)\n",
        "  pt2=Eq(2*x2-y2+z2,-1)\n",
        "  pt3=Eq(x2+y2+z2,5)\n",
        "  kq2=solve((pt1,pt2,pt3),(x2,y2,z2))\n",
        "  print(\"nghiem la:\", kq2)"
      ],
      "metadata": {
        "id": "MpONLi6eROxv"
      },
      "execution_count": 14,
      "outputs": []
    },
    {
      "cell_type": "markdown",
      "source": [
        "Tính giới hạn"
      ],
      "metadata": {
        "id": "skCFj2LWSqNO"
      }
    },
    {
      "cell_type": "code",
      "source": [
        "#bai1\n",
        "def giai_lim1():\n",
        "  x=symbols('x')\n",
        "  f=(x-8)/(x-2)\n",
        "  kq=limit(f,x,2)\n",
        "  print(\"ket qua la:\",kq)"
      ],
      "metadata": {
        "id": "qVuVr1a-SsDu"
      },
      "execution_count": 15,
      "outputs": []
    },
    {
      "cell_type": "code",
      "source": [
        "#bai2\n",
        "def giai_lim2():\n",
        "  x=symbols('x')\n",
        "  f=(1-cos(x))/sin(x)\n",
        "  kq=limit(f,x,0)\n",
        "  print(\"ket qua la:\",kq)"
      ],
      "metadata": {
        "id": "2R0N50IFTQr9"
      },
      "execution_count": 27,
      "outputs": []
    },
    {
      "cell_type": "markdown",
      "source": [
        "Tính đạo hàm\n"
      ],
      "metadata": {
        "id": "BTSXM0oITlqm"
      }
    },
    {
      "cell_type": "code",
      "source": [
        "#bai1\n",
        "def giai_DH1():\n",
        "  x=symbols('x')\n",
        "  f=3*x**2+6*x-8\n",
        "  kq=diff(f,x)\n",
        "  print(\"dao ham cua f la:\",kq)"
      ],
      "metadata": {
        "id": "zMyX7pxzTpTu"
      },
      "execution_count": 17,
      "outputs": []
    },
    {
      "cell_type": "code",
      "source": [
        "#bai2\n",
        "def giai_DH2():\n",
        "  x=symbols('x')\n",
        "  f=tan(x)\n",
        "  kq=diff(f,x)\n",
        "  print(\"dao ham cua f la:\",kq)"
      ],
      "metadata": {
        "id": "axt8B5JsUEnW"
      },
      "execution_count": 18,
      "outputs": []
    },
    {
      "cell_type": "markdown",
      "source": [
        "Tính tích phân"
      ],
      "metadata": {
        "id": "ZYPVnvwoUQzm"
      }
    },
    {
      "cell_type": "code",
      "source": [
        "#bai1\n",
        "def giai_tp1():\n",
        "  x=symbols('x')\n",
        "  f=sin(2*x)*sin(7*x)\n",
        "  kq=integrate(f,(x,-pi/2,pi/2))\n",
        "  print(\"tich phan cua f la:\",kq)"
      ],
      "metadata": {
        "id": "Xf20una-UUkF"
      },
      "execution_count": 19,
      "outputs": []
    },
    {
      "cell_type": "code",
      "source": [
        "#bai2\n",
        "def giai_tp2():\n",
        "  x,y=symbols('x y')\n",
        "  f=2*sin(x)-3*y**3+5\n",
        "  kq=integrate(f,x,y)\n",
        "  print(\"tich phan cua f la:\",kq)"
      ],
      "metadata": {
        "id": "EpqcwI2KU1Q2"
      },
      "execution_count": 21,
      "outputs": []
    },
    {
      "cell_type": "code",
      "source": [
        "#bai3\n",
        "def giai_tp3():\n",
        "  x,y=symbols('x y')\n",
        "  f=x**2+y**2\n",
        "  kq=integrate(f,(x,-2,2),(y,0,4))\n",
        "  print(\"tich phan cua f la:\",kq)"
      ],
      "metadata": {
        "id": "VPtD-qOiVPM5"
      },
      "execution_count": 22,
      "outputs": []
    },
    {
      "cell_type": "code",
      "source": [
        "def main():\n",
        "  giai_pt1()\n",
        "  giai_pt2()\n",
        "  giai_he_2_an()\n",
        "  giai_he_3_an()\n",
        "  giai_lim1()\n",
        "  giai_lim2()\n",
        "  giai_DH1()\n",
        "  giai_DH2()\n",
        "  giai_tp1()\n",
        "  giai_tp2()\n",
        "  giai_tp3()"
      ],
      "metadata": {
        "id": "_WsGdaQ4Vl3X"
      },
      "execution_count": 24,
      "outputs": []
    },
    {
      "cell_type": "code",
      "source": [
        "if __name__=='__main__':\n",
        "  main()"
      ],
      "metadata": {
        "colab": {
          "base_uri": "https://localhost:8080/"
        },
        "id": "182DwniKWEHG",
        "outputId": "957a9d2c-b559-4763-c396-021c98251ca6"
      },
      "execution_count": 28,
      "outputs": [
        {
          "output_type": "stream",
          "name": "stdout",
          "text": [
            "-2x+5=0\n",
            "nghiem x= [5/2]\n",
            "5x-9=0\n",
            "nghiem x= [9/5]\n",
            "x-y=3\n",
            "  3x-4y=4\n",
            "x, y lan luot la: {x: 8, y: 5}\n",
            "x-y+2z=4\n",
            "  2x-y+z=-1\n",
            "  x+y+z=5\n",
            "nghiem la: {x: -6/5, y: 12/5, z: 19/5}\n",
            "ket qua la: -oo\n",
            "ket qua la: 0\n",
            "dao ham cua f la: 6*x + 6\n",
            "dao ham cua f la: tan(x)**2 + 1\n",
            "tich phan cua f la: 4/45\n",
            "tich phan cua f la: -3*x*y**4/4 + y*(5*x - 2*cos(x))\n",
            "tich phan cua f la: 320/3\n"
          ]
        }
      ]
    }
  ]
}